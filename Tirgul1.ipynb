{
  "nbformat": 4,
  "nbformat_minor": 0,
  "metadata": {
    "colab": {
      "provenance": [],
      "authorship_tag": "ABX9TyOTs6RRdP0mH4saQBizjjA8",
      "include_colab_link": true
    },
    "kernelspec": {
      "name": "python3",
      "display_name": "Python 3"
    },
    "language_info": {
      "name": "python"
    }
  },
  "cells": [
    {
      "cell_type": "markdown",
      "metadata": {
        "id": "view-in-github",
        "colab_type": "text"
      },
      "source": [
        "<a href=\"https://colab.research.google.com/github/YairZen/Google_Colab/blob/main/Tirgul1.ipynb\" target=\"_parent\"><img src=\"https://colab.research.google.com/assets/colab-badge.svg\" alt=\"Open In Colab\"/></a>"
      ]
    },
    {
      "cell_type": "code",
      "execution_count": null,
      "metadata": {
        "id": "uqj_4ZWMJsfo"
      },
      "outputs": [],
      "source": [
        "from google.colab import drive\n",
        "drive.mount('/content/drive',  force_remount=True)"
      ]
    },
    {
      "cell_type": "code",
      "source": [
        "cd /content/drive/MyDrive"
      ],
      "metadata": {
        "id": "G9bow8atMcnc"
      },
      "execution_count": null,
      "outputs": []
    },
    {
      "cell_type": "code",
      "source": [
        "ls"
      ],
      "metadata": {
        "id": "Cwn_P8SnTHHx"
      },
      "execution_count": null,
      "outputs": []
    },
    {
      "cell_type": "code",
      "source": [
        "import ipywidgets as widgets\n",
        "from IPython.display import display\n",
        "\n",
        "with open('students.txt', 'r') as file:\n",
        "\n",
        "  student_names_list = []\n",
        "  student_Info_list = []\n",
        "\n",
        "  for line in file:\n",
        "    student_Info_list.append(line)\n",
        "    line = line.strip()    #clean spaces\n",
        "\n",
        "    student_Info = line.split(',')\n",
        "    student_full_name = f\"{student_Info[0]} {student_Info[1]}\"\n",
        "\n",
        "    student_names_list.append(student_full_name)\n",
        "\n",
        "  print(student_names_list)\n",
        "  print(student_Info_list)\n",
        "\n",
        "import ipywidgets as widgets\n",
        "from IPython.display import display\n",
        "\n",
        "# הגדרות (כדי לדעת לאן לכתוב)\n",
        "FILE_PATH = \"/content/drive/My Drive/students.txt\"\n",
        "DELIMITER = ','\n",
        "\n",
        "# --- 1. יצירת הרכיבים ---\n",
        "dropdown = widgets.Dropdown(options=student_names_list, description='בחר:')\n",
        "text_email = widgets.Text(description='מייל:', disabled=True)\n",
        "text_courses = widgets.Text(description='קורסים:', disabled=True)\n",
        "text_link = widgets.Text(description='קישור:', disabled=True)\n",
        "text_fav = widgets.Text(description='תוכנית אהובה:', disabled=True)\n",
        "text_new_fav = widgets.Text(description='עדכון תוכנית:')\n",
        "button = widgets.Button(description='עדכן קובץ', button_style='success')\n",
        "out = widgets.Output() # להודעות\n",
        "\n",
        "# --- 2. פונקציות ---\n",
        "def display_details(change):\n",
        "    # מוצא את המידע לפי הרשימות שלך\n",
        "    idx = student_names_list.index(change['new'])\n",
        "    parts = student_Info_list[idx].strip().split(DELIMITER)\n",
        "\n",
        "    # ממלא את התיבות\n",
        "    text_email.value = parts[2].strip()\n",
        "    text_courses.value = parts[3].strip()\n",
        "    text_link.value = parts[4].strip()\n",
        "    text_fav.value = parts[5].strip() if len(parts) > 5 else \"טרם עודכן\"\n",
        "    out.clear_output()\n",
        "\n",
        "def on_button_click(b):\n",
        "    out.clear_output()\n",
        "    # מוצא את 5 השדות המקוריים\n",
        "    idx = student_names_list.index(dropdown.value)\n",
        "    original_parts = student_Info_list[idx].strip().split(DELIMITER)[0:5]\n",
        "\n",
        "    # מוסיף את השדה החדש\n",
        "    new_program = text_new_fav.value.strip()\n",
        "    if not new_program:\n",
        "        with out: print(\"נא להזין תוכנית.\")\n",
        "        return\n",
        "\n",
        "    original_parts.append(new_program)\n",
        "    new_line = DELIMITER.join(original_parts) + '\\n'\n",
        "\n",
        "    # כותב לקובץ\n",
        "    try:\n",
        "        with open(FILE_PATH, 'a') as f:\n",
        "            f.write(new_line)\n",
        "\n",
        "        # מעדכן את הרשימות בזיכרון\n",
        "        student_Info_list.append(new_line)\n",
        "\n",
        "        # מרענן את התצוגה\n",
        "        display_details({'new': dropdown.value})\n",
        "        text_new_fav.value = \"\"\n",
        "        with out: print(\"נשמר בהצלחה!\")\n",
        "    except Exception as e:\n",
        "        with out: print(f\"שגיאה בכתיבה: {e}\")\n",
        "\n",
        "# --- 3. חיבור והצגה ---\n",
        "dropdown.observe(display_details, names='value')\n",
        "button.on_click(on_button_click)\n",
        "\n",
        "# הצגה פשוטה, אחד מתחת לשני\n",
        "display(dropdown, text_email, text_courses, text_link, text_fav, text_new_fav, button, out)\n",
        "\n",
        "# הפעלה ראשונית\n",
        "display_details({'new': student_names_list[0]})\n"
      ],
      "metadata": {
        "id": "5-pCO2upL1GC"
      },
      "execution_count": null,
      "outputs": []
    },
    {
      "cell_type": "code",
      "source": [
        "full_name = 'Shay  Shay' #@param [\"Yair  Zeneve\", \"Shay  Shay\", \"Evyatar  Salamon\"]\n",
        "print(full_name)"
      ],
      "metadata": {
        "id": "TtcRegH5T42K"
      },
      "execution_count": null,
      "outputs": []
    },
    {
      "cell_type": "code",
      "source": [
        "firstName = \"fName\" #@param {type:\"string\"} print(firstName)\n",
        "lastName = \"lName\" #@param {type:\"string\"} print(lastName)\n",
        "mail = \"mail\" #@param {type:\"string\"} print(mail)\n",
        "courses = \"courses\" #@param {type:\"string\"} print(courses)\n",
        "link = \"link\" #@param {type:\"string\"} print(link)"
      ],
      "metadata": {
        "id": "Y5GfDJ0xJ0ZC"
      },
      "execution_count": null,
      "outputs": []
    },
    {
      "cell_type": "code",
      "source": [],
      "metadata": {
        "id": "k0hvPWbiWnHe"
      },
      "execution_count": null,
      "outputs": []
    }
  ]
}