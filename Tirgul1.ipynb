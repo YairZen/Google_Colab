{
  "nbformat": 4,
  "nbformat_minor": 0,
  "metadata": {
    "colab": {
      "provenance": [],
      "authorship_tag": "ABX9TyOTs6RRdP0mH4saQBizjjA8",
      "include_colab_link": true
    },
    "kernelspec": {
      "name": "python3",
      "display_name": "Python 3"
    },
    "language_info": {
      "name": "python"
    },
    "widgets": {
      "application/vnd.jupyter.widget-state+json": {
        "3d1df35b4bab4d36bc62e8f8e7bbd33a": {
          "model_module": "@jupyter-widgets/controls",
          "model_name": "DropdownModel",
          "model_module_version": "1.5.0",
          "state": {
            "_dom_classes": [],
            "_model_module": "@jupyter-widgets/controls",
            "_model_module_version": "1.5.0",
            "_model_name": "DropdownModel",
            "_options_labels": [
              "Yair  Zeneve",
              "Shay  Shay",
              "Evyatar  Salamon"
            ],
            "_view_count": null,
            "_view_module": "@jupyter-widgets/controls",
            "_view_module_version": "1.5.0",
            "_view_name": "DropdownView",
            "description": "בחר:",
            "description_tooltip": null,
            "disabled": false,
            "index": 0,
            "layout": "IPY_MODEL_53ed0c3a5d4d44eda4874d73a5a43914",
            "style": "IPY_MODEL_7de4cd73e32f49bc99e719e9636c215b"
          }
        },
        "53ed0c3a5d4d44eda4874d73a5a43914": {
          "model_module": "@jupyter-widgets/base",
          "model_name": "LayoutModel",
          "model_module_version": "1.2.0",
          "state": {
            "_model_module": "@jupyter-widgets/base",
            "_model_module_version": "1.2.0",
            "_model_name": "LayoutModel",
            "_view_count": null,
            "_view_module": "@jupyter-widgets/base",
            "_view_module_version": "1.2.0",
            "_view_name": "LayoutView",
            "align_content": null,
            "align_items": null,
            "align_self": null,
            "border": null,
            "bottom": null,
            "display": null,
            "flex": null,
            "flex_flow": null,
            "grid_area": null,
            "grid_auto_columns": null,
            "grid_auto_flow": null,
            "grid_auto_rows": null,
            "grid_column": null,
            "grid_gap": null,
            "grid_row": null,
            "grid_template_areas": null,
            "grid_template_columns": null,
            "grid_template_rows": null,
            "height": null,
            "justify_content": null,
            "justify_items": null,
            "left": null,
            "margin": null,
            "max_height": null,
            "max_width": null,
            "min_height": null,
            "min_width": null,
            "object_fit": null,
            "object_position": null,
            "order": null,
            "overflow": null,
            "overflow_x": null,
            "overflow_y": null,
            "padding": null,
            "right": null,
            "top": null,
            "visibility": null,
            "width": null
          }
        },
        "7de4cd73e32f49bc99e719e9636c215b": {
          "model_module": "@jupyter-widgets/controls",
          "model_name": "DescriptionStyleModel",
          "model_module_version": "1.5.0",
          "state": {
            "_model_module": "@jupyter-widgets/controls",
            "_model_module_version": "1.5.0",
            "_model_name": "DescriptionStyleModel",
            "_view_count": null,
            "_view_module": "@jupyter-widgets/base",
            "_view_module_version": "1.2.0",
            "_view_name": "StyleView",
            "description_width": ""
          }
        },
        "47c163d029a748f194f571074392acd9": {
          "model_module": "@jupyter-widgets/controls",
          "model_name": "TextModel",
          "model_module_version": "1.5.0",
          "state": {
            "_dom_classes": [],
            "_model_module": "@jupyter-widgets/controls",
            "_model_module_version": "1.5.0",
            "_model_name": "TextModel",
            "_view_count": null,
            "_view_module": "@jupyter-widgets/controls",
            "_view_module_version": "1.5.0",
            "_view_name": "TextView",
            "continuous_update": true,
            "description": "מייל:",
            "description_tooltip": null,
            "disabled": true,
            "layout": "IPY_MODEL_ee53cd751c5543578225e78a276192f6",
            "placeholder": "​",
            "style": "IPY_MODEL_62e53961a1104a27afc3dd0f6492b752",
            "value": "yair.zenve@e.braude.ac.il"
          }
        },
        "ee53cd751c5543578225e78a276192f6": {
          "model_module": "@jupyter-widgets/base",
          "model_name": "LayoutModel",
          "model_module_version": "1.2.0",
          "state": {
            "_model_module": "@jupyter-widgets/base",
            "_model_module_version": "1.2.0",
            "_model_name": "LayoutModel",
            "_view_count": null,
            "_view_module": "@jupyter-widgets/base",
            "_view_module_version": "1.2.0",
            "_view_name": "LayoutView",
            "align_content": null,
            "align_items": null,
            "align_self": null,
            "border": null,
            "bottom": null,
            "display": null,
            "flex": null,
            "flex_flow": null,
            "grid_area": null,
            "grid_auto_columns": null,
            "grid_auto_flow": null,
            "grid_auto_rows": null,
            "grid_column": null,
            "grid_gap": null,
            "grid_row": null,
            "grid_template_areas": null,
            "grid_template_columns": null,
            "grid_template_rows": null,
            "height": null,
            "justify_content": null,
            "justify_items": null,
            "left": null,
            "margin": null,
            "max_height": null,
            "max_width": null,
            "min_height": null,
            "min_width": null,
            "object_fit": null,
            "object_position": null,
            "order": null,
            "overflow": null,
            "overflow_x": null,
            "overflow_y": null,
            "padding": null,
            "right": null,
            "top": null,
            "visibility": null,
            "width": null
          }
        },
        "62e53961a1104a27afc3dd0f6492b752": {
          "model_module": "@jupyter-widgets/controls",
          "model_name": "DescriptionStyleModel",
          "model_module_version": "1.5.0",
          "state": {
            "_model_module": "@jupyter-widgets/controls",
            "_model_module_version": "1.5.0",
            "_model_name": "DescriptionStyleModel",
            "_view_count": null,
            "_view_module": "@jupyter-widgets/base",
            "_view_module_version": "1.2.0",
            "_view_name": "StyleView",
            "description_width": ""
          }
        },
        "ee737f11494d4383a9a8ecdf46133e84": {
          "model_module": "@jupyter-widgets/controls",
          "model_name": "TextModel",
          "model_module_version": "1.5.0",
          "state": {
            "_dom_classes": [],
            "_model_module": "@jupyter-widgets/controls",
            "_model_module_version": "1.5.0",
            "_model_name": "TextModel",
            "_view_count": null,
            "_view_module": "@jupyter-widgets/controls",
            "_view_module_version": "1.5.0",
            "_view_name": "TextView",
            "continuous_update": true,
            "description": "קורסים:",
            "description_tooltip": null,
            "disabled": true,
            "layout": "IPY_MODEL_a452fc12979d4222a75bb9afa0fbd4e2",
            "placeholder": "​",
            "style": "IPY_MODEL_680d44ae4f3e4075bcbcd8901be57a9b",
            "value": "Physics; Math"
          }
        },
        "a452fc12979d4222a75bb9afa0fbd4e2": {
          "model_module": "@jupyter-widgets/base",
          "model_name": "LayoutModel",
          "model_module_version": "1.2.0",
          "state": {
            "_model_module": "@jupyter-widgets/base",
            "_model_module_version": "1.2.0",
            "_model_name": "LayoutModel",
            "_view_count": null,
            "_view_module": "@jupyter-widgets/base",
            "_view_module_version": "1.2.0",
            "_view_name": "LayoutView",
            "align_content": null,
            "align_items": null,
            "align_self": null,
            "border": null,
            "bottom": null,
            "display": null,
            "flex": null,
            "flex_flow": null,
            "grid_area": null,
            "grid_auto_columns": null,
            "grid_auto_flow": null,
            "grid_auto_rows": null,
            "grid_column": null,
            "grid_gap": null,
            "grid_row": null,
            "grid_template_areas": null,
            "grid_template_columns": null,
            "grid_template_rows": null,
            "height": null,
            "justify_content": null,
            "justify_items": null,
            "left": null,
            "margin": null,
            "max_height": null,
            "max_width": null,
            "min_height": null,
            "min_width": null,
            "object_fit": null,
            "object_position": null,
            "order": null,
            "overflow": null,
            "overflow_x": null,
            "overflow_y": null,
            "padding": null,
            "right": null,
            "top": null,
            "visibility": null,
            "width": null
          }
        },
        "680d44ae4f3e4075bcbcd8901be57a9b": {
          "model_module": "@jupyter-widgets/controls",
          "model_name": "DescriptionStyleModel",
          "model_module_version": "1.5.0",
          "state": {
            "_model_module": "@jupyter-widgets/controls",
            "_model_module_version": "1.5.0",
            "_model_name": "DescriptionStyleModel",
            "_view_count": null,
            "_view_module": "@jupyter-widgets/base",
            "_view_module_version": "1.2.0",
            "_view_name": "StyleView",
            "description_width": ""
          }
        },
        "bb3cd96126d74bdd90a258eef83b9c7b": {
          "model_module": "@jupyter-widgets/controls",
          "model_name": "TextModel",
          "model_module_version": "1.5.0",
          "state": {
            "_dom_classes": [],
            "_model_module": "@jupyter-widgets/controls",
            "_model_module_version": "1.5.0",
            "_model_name": "TextModel",
            "_view_count": null,
            "_view_module": "@jupyter-widgets/controls",
            "_view_module_version": "1.5.0",
            "_view_name": "TextView",
            "continuous_update": true,
            "description": "קישור:",
            "description_tooltip": null,
            "disabled": true,
            "layout": "IPY_MODEL_152d9699dd2e4cb6afa73723c330e6b8",
            "placeholder": "​",
            "style": "IPY_MODEL_8416d5b74c7e421db083619f6c8cc5ea",
            "value": "https://www.youtube.com/"
          }
        },
        "152d9699dd2e4cb6afa73723c330e6b8": {
          "model_module": "@jupyter-widgets/base",
          "model_name": "LayoutModel",
          "model_module_version": "1.2.0",
          "state": {
            "_model_module": "@jupyter-widgets/base",
            "_model_module_version": "1.2.0",
            "_model_name": "LayoutModel",
            "_view_count": null,
            "_view_module": "@jupyter-widgets/base",
            "_view_module_version": "1.2.0",
            "_view_name": "LayoutView",
            "align_content": null,
            "align_items": null,
            "align_self": null,
            "border": null,
            "bottom": null,
            "display": null,
            "flex": null,
            "flex_flow": null,
            "grid_area": null,
            "grid_auto_columns": null,
            "grid_auto_flow": null,
            "grid_auto_rows": null,
            "grid_column": null,
            "grid_gap": null,
            "grid_row": null,
            "grid_template_areas": null,
            "grid_template_columns": null,
            "grid_template_rows": null,
            "height": null,
            "justify_content": null,
            "justify_items": null,
            "left": null,
            "margin": null,
            "max_height": null,
            "max_width": null,
            "min_height": null,
            "min_width": null,
            "object_fit": null,
            "object_position": null,
            "order": null,
            "overflow": null,
            "overflow_x": null,
            "overflow_y": null,
            "padding": null,
            "right": null,
            "top": null,
            "visibility": null,
            "width": null
          }
        },
        "8416d5b74c7e421db083619f6c8cc5ea": {
          "model_module": "@jupyter-widgets/controls",
          "model_name": "DescriptionStyleModel",
          "model_module_version": "1.5.0",
          "state": {
            "_model_module": "@jupyter-widgets/controls",
            "_model_module_version": "1.5.0",
            "_model_name": "DescriptionStyleModel",
            "_view_count": null,
            "_view_module": "@jupyter-widgets/base",
            "_view_module_version": "1.2.0",
            "_view_name": "StyleView",
            "description_width": ""
          }
        },
        "e65fac1d974949d0ac9b4fd5ef3009e9": {
          "model_module": "@jupyter-widgets/controls",
          "model_name": "TextModel",
          "model_module_version": "1.5.0",
          "state": {
            "_dom_classes": [],
            "_model_module": "@jupyter-widgets/controls",
            "_model_module_version": "1.5.0",
            "_model_name": "TextModel",
            "_view_count": null,
            "_view_module": "@jupyter-widgets/controls",
            "_view_module_version": "1.5.0",
            "_view_name": "TextView",
            "continuous_update": true,
            "description": "תוכנית אהובה:",
            "description_tooltip": null,
            "disabled": true,
            "layout": "IPY_MODEL_5c90700ae55b44ff9ea092c5ed4e8834",
            "placeholder": "​",
            "style": "IPY_MODEL_3d8049e9001e4293a5b2ba8104e0ce6a",
            "value": "טרם עודכן"
          }
        },
        "5c90700ae55b44ff9ea092c5ed4e8834": {
          "model_module": "@jupyter-widgets/base",
          "model_name": "LayoutModel",
          "model_module_version": "1.2.0",
          "state": {
            "_model_module": "@jupyter-widgets/base",
            "_model_module_version": "1.2.0",
            "_model_name": "LayoutModel",
            "_view_count": null,
            "_view_module": "@jupyter-widgets/base",
            "_view_module_version": "1.2.0",
            "_view_name": "LayoutView",
            "align_content": null,
            "align_items": null,
            "align_self": null,
            "border": null,
            "bottom": null,
            "display": null,
            "flex": null,
            "flex_flow": null,
            "grid_area": null,
            "grid_auto_columns": null,
            "grid_auto_flow": null,
            "grid_auto_rows": null,
            "grid_column": null,
            "grid_gap": null,
            "grid_row": null,
            "grid_template_areas": null,
            "grid_template_columns": null,
            "grid_template_rows": null,
            "height": null,
            "justify_content": null,
            "justify_items": null,
            "left": null,
            "margin": null,
            "max_height": null,
            "max_width": null,
            "min_height": null,
            "min_width": null,
            "object_fit": null,
            "object_position": null,
            "order": null,
            "overflow": null,
            "overflow_x": null,
            "overflow_y": null,
            "padding": null,
            "right": null,
            "top": null,
            "visibility": null,
            "width": null
          }
        },
        "3d8049e9001e4293a5b2ba8104e0ce6a": {
          "model_module": "@jupyter-widgets/controls",
          "model_name": "DescriptionStyleModel",
          "model_module_version": "1.5.0",
          "state": {
            "_model_module": "@jupyter-widgets/controls",
            "_model_module_version": "1.5.0",
            "_model_name": "DescriptionStyleModel",
            "_view_count": null,
            "_view_module": "@jupyter-widgets/base",
            "_view_module_version": "1.2.0",
            "_view_name": "StyleView",
            "description_width": ""
          }
        },
        "022675251cb64226ba196654d3b4d870": {
          "model_module": "@jupyter-widgets/controls",
          "model_name": "TextModel",
          "model_module_version": "1.5.0",
          "state": {
            "_dom_classes": [],
            "_model_module": "@jupyter-widgets/controls",
            "_model_module_version": "1.5.0",
            "_model_name": "TextModel",
            "_view_count": null,
            "_view_module": "@jupyter-widgets/controls",
            "_view_module_version": "1.5.0",
            "_view_name": "TextView",
            "continuous_update": true,
            "description": "עדכון תוכנית:",
            "description_tooltip": null,
            "disabled": false,
            "layout": "IPY_MODEL_713e2e0d71f7409780312e4262f9774b",
            "placeholder": "​",
            "style": "IPY_MODEL_10881e84efb34a14adaf972f3bd86c0b",
            "value": ""
          }
        },
        "713e2e0d71f7409780312e4262f9774b": {
          "model_module": "@jupyter-widgets/base",
          "model_name": "LayoutModel",
          "model_module_version": "1.2.0",
          "state": {
            "_model_module": "@jupyter-widgets/base",
            "_model_module_version": "1.2.0",
            "_model_name": "LayoutModel",
            "_view_count": null,
            "_view_module": "@jupyter-widgets/base",
            "_view_module_version": "1.2.0",
            "_view_name": "LayoutView",
            "align_content": null,
            "align_items": null,
            "align_self": null,
            "border": null,
            "bottom": null,
            "display": null,
            "flex": null,
            "flex_flow": null,
            "grid_area": null,
            "grid_auto_columns": null,
            "grid_auto_flow": null,
            "grid_auto_rows": null,
            "grid_column": null,
            "grid_gap": null,
            "grid_row": null,
            "grid_template_areas": null,
            "grid_template_columns": null,
            "grid_template_rows": null,
            "height": null,
            "justify_content": null,
            "justify_items": null,
            "left": null,
            "margin": null,
            "max_height": null,
            "max_width": null,
            "min_height": null,
            "min_width": null,
            "object_fit": null,
            "object_position": null,
            "order": null,
            "overflow": null,
            "overflow_x": null,
            "overflow_y": null,
            "padding": null,
            "right": null,
            "top": null,
            "visibility": null,
            "width": null
          }
        },
        "10881e84efb34a14adaf972f3bd86c0b": {
          "model_module": "@jupyter-widgets/controls",
          "model_name": "DescriptionStyleModel",
          "model_module_version": "1.5.0",
          "state": {
            "_model_module": "@jupyter-widgets/controls",
            "_model_module_version": "1.5.0",
            "_model_name": "DescriptionStyleModel",
            "_view_count": null,
            "_view_module": "@jupyter-widgets/base",
            "_view_module_version": "1.2.0",
            "_view_name": "StyleView",
            "description_width": ""
          }
        },
        "db0c9f21f73c4217a80c2314f63584f8": {
          "model_module": "@jupyter-widgets/controls",
          "model_name": "ButtonModel",
          "model_module_version": "1.5.0",
          "state": {
            "_dom_classes": [],
            "_model_module": "@jupyter-widgets/controls",
            "_model_module_version": "1.5.0",
            "_model_name": "ButtonModel",
            "_view_count": null,
            "_view_module": "@jupyter-widgets/controls",
            "_view_module_version": "1.5.0",
            "_view_name": "ButtonView",
            "button_style": "success",
            "description": "עדכן קובץ",
            "disabled": false,
            "icon": "",
            "layout": "IPY_MODEL_ba0faa5b59cc4925b2e21428f0563848",
            "style": "IPY_MODEL_5afe6da894ea443da14b04b4738ca5d6",
            "tooltip": ""
          }
        },
        "ba0faa5b59cc4925b2e21428f0563848": {
          "model_module": "@jupyter-widgets/base",
          "model_name": "LayoutModel",
          "model_module_version": "1.2.0",
          "state": {
            "_model_module": "@jupyter-widgets/base",
            "_model_module_version": "1.2.0",
            "_model_name": "LayoutModel",
            "_view_count": null,
            "_view_module": "@jupyter-widgets/base",
            "_view_module_version": "1.2.0",
            "_view_name": "LayoutView",
            "align_content": null,
            "align_items": null,
            "align_self": null,
            "border": null,
            "bottom": null,
            "display": null,
            "flex": null,
            "flex_flow": null,
            "grid_area": null,
            "grid_auto_columns": null,
            "grid_auto_flow": null,
            "grid_auto_rows": null,
            "grid_column": null,
            "grid_gap": null,
            "grid_row": null,
            "grid_template_areas": null,
            "grid_template_columns": null,
            "grid_template_rows": null,
            "height": null,
            "justify_content": null,
            "justify_items": null,
            "left": null,
            "margin": null,
            "max_height": null,
            "max_width": null,
            "min_height": null,
            "min_width": null,
            "object_fit": null,
            "object_position": null,
            "order": null,
            "overflow": null,
            "overflow_x": null,
            "overflow_y": null,
            "padding": null,
            "right": null,
            "top": null,
            "visibility": null,
            "width": null
          }
        },
        "5afe6da894ea443da14b04b4738ca5d6": {
          "model_module": "@jupyter-widgets/controls",
          "model_name": "ButtonStyleModel",
          "model_module_version": "1.5.0",
          "state": {
            "_model_module": "@jupyter-widgets/controls",
            "_model_module_version": "1.5.0",
            "_model_name": "ButtonStyleModel",
            "_view_count": null,
            "_view_module": "@jupyter-widgets/base",
            "_view_module_version": "1.2.0",
            "_view_name": "StyleView",
            "button_color": null,
            "font_weight": ""
          }
        },
        "1c8e84e7807740128ff02bff1f496140": {
          "model_module": "@jupyter-widgets/output",
          "model_name": "OutputModel",
          "model_module_version": "1.0.0",
          "state": {
            "_dom_classes": [],
            "_model_module": "@jupyter-widgets/output",
            "_model_module_version": "1.0.0",
            "_model_name": "OutputModel",
            "_view_count": null,
            "_view_module": "@jupyter-widgets/output",
            "_view_module_version": "1.0.0",
            "_view_name": "OutputView",
            "layout": "IPY_MODEL_fe5452ab48ca411e8f307021b780016c",
            "msg_id": "",
            "outputs": [
              {
                "output_type": "stream",
                "name": "stdout",
                "text": [
                  "נשמר בהצלחה!\n"
                ]
              }
            ]
          }
        },
        "fe5452ab48ca411e8f307021b780016c": {
          "model_module": "@jupyter-widgets/base",
          "model_name": "LayoutModel",
          "model_module_version": "1.2.0",
          "state": {
            "_model_module": "@jupyter-widgets/base",
            "_model_module_version": "1.2.0",
            "_model_name": "LayoutModel",
            "_view_count": null,
            "_view_module": "@jupyter-widgets/base",
            "_view_module_version": "1.2.0",
            "_view_name": "LayoutView",
            "align_content": null,
            "align_items": null,
            "align_self": null,
            "border": null,
            "bottom": null,
            "display": null,
            "flex": null,
            "flex_flow": null,
            "grid_area": null,
            "grid_auto_columns": null,
            "grid_auto_flow": null,
            "grid_auto_rows": null,
            "grid_column": null,
            "grid_gap": null,
            "grid_row": null,
            "grid_template_areas": null,
            "grid_template_columns": null,
            "grid_template_rows": null,
            "height": null,
            "justify_content": null,
            "justify_items": null,
            "left": null,
            "margin": null,
            "max_height": null,
            "max_width": null,
            "min_height": null,
            "min_width": null,
            "object_fit": null,
            "object_position": null,
            "order": null,
            "overflow": null,
            "overflow_x": null,
            "overflow_y": null,
            "padding": null,
            "right": null,
            "top": null,
            "visibility": null,
            "width": null
          }
        }
      }
    }
  },
  "cells": [
    {
      "cell_type": "markdown",
      "metadata": {
        "id": "view-in-github",
        "colab_type": "text"
      },
      "source": [
        "<a href=\"https://colab.research.google.com/github/YairZen/Google_Colab/blob/main/Tirgul1.ipynb\" target=\"_parent\"><img src=\"https://colab.research.google.com/assets/colab-badge.svg\" alt=\"Open In Colab\"/></a>"
      ]
    },
    {
      "cell_type": "code",
      "execution_count": 28,
      "metadata": {
        "colab": {
          "base_uri": "https://localhost:8080/"
        },
        "id": "uqj_4ZWMJsfo",
        "outputId": "b639e82e-b309-478b-875e-a33c0815755d"
      },
      "outputs": [
        {
          "output_type": "stream",
          "name": "stdout",
          "text": [
            "Mounted at /content/drive\n"
          ]
        }
      ],
      "source": [
        "from google.colab import drive\n",
        "drive.mount('/content/drive',  force_remount=True)"
      ]
    },
    {
      "cell_type": "code",
      "source": [
        "cd /content/drive/MyDrive"
      ],
      "metadata": {
        "colab": {
          "base_uri": "https://localhost:8080/"
        },
        "id": "G9bow8atMcnc",
        "outputId": "77c2815f-e3f8-4f35-df7f-35dfc5fd8620"
      },
      "execution_count": 29,
      "outputs": [
        {
          "output_type": "stream",
          "name": "stdout",
          "text": [
            "/content/drive/MyDrive\n"
          ]
        }
      ]
    },
    {
      "cell_type": "code",
      "source": [
        "ls"
      ],
      "metadata": {
        "colab": {
          "base_uri": "https://localhost:8080/"
        },
        "id": "Cwn_P8SnTHHx",
        "outputId": "b6279302-3d72-403b-d838-3b7ddcd56288"
      },
      "execution_count": 36,
      "outputs": [
        {
          "output_type": "stream",
          "name": "stdout",
          "text": [
            " 1.txt               students.txt           \u001b[0m\u001b[01;36mצבא-מילואים\u001b[0m@       \u001b[01;36mתמונות\u001b[0m@\n",
            "\u001b[01;34m'Colab Notebooks'\u001b[0m/   \u001b[01;36mטפסים-מלגות-לימודים\u001b[0m@  \u001b[01;36m'קורסים נוכחיים'\u001b[0m@\n",
            " example.txt         \u001b[01;36mמיטב-השקעות\u001b[0m@           \u001b[01;36mרכב\u001b[0m@\n"
          ]
        }
      ]
    },
    {
      "cell_type": "code",
      "source": [
        "import ipywidgets as widgets\n",
        "from IPython.display import display\n",
        "\n",
        "with open('students.txt', 'r') as file:\n",
        "\n",
        "  student_names_list = []\n",
        "  student_Info_list = []\n",
        "\n",
        "  for line in file:\n",
        "    student_Info_list.append(line)\n",
        "    line = line.strip()    #clean spaces\n",
        "\n",
        "    student_Info = line.split(',')\n",
        "    student_full_name = f\"{student_Info[0]} {student_Info[1]}\"\n",
        "\n",
        "    student_names_list.append(student_full_name)\n",
        "\n",
        "  print(student_names_list)\n",
        "  print(student_Info_list)\n",
        "\n",
        "import ipywidgets as widgets\n",
        "from IPython.display import display\n",
        "\n",
        "# הגדרות (כדי לדעת לאן לכתוב)\n",
        "FILE_PATH = \"/content/drive/My Drive/students.txt\"\n",
        "DELIMITER = ','\n",
        "\n",
        "# --- 1. יצירת הרכיבים ---\n",
        "dropdown = widgets.Dropdown(options=student_names_list, description='בחר:')\n",
        "text_email = widgets.Text(description='מייל:', disabled=True)\n",
        "text_courses = widgets.Text(description='קורסים:', disabled=True)\n",
        "text_link = widgets.Text(description='קישור:', disabled=True)\n",
        "text_fav = widgets.Text(description='תוכנית אהובה:', disabled=True)\n",
        "text_new_fav = widgets.Text(description='עדכון תוכנית:')\n",
        "button = widgets.Button(description='עדכן קובץ', button_style='success')\n",
        "out = widgets.Output() # להודעות\n",
        "\n",
        "# --- 2. פונקציות ---\n",
        "def display_details(change):\n",
        "    # מוצא את המידע לפי הרשימות שלך\n",
        "    idx = student_names_list.index(change['new'])\n",
        "    parts = student_Info_list[idx].strip().split(DELIMITER)\n",
        "\n",
        "    # ממלא את התיבות\n",
        "    text_email.value = parts[2].strip()\n",
        "    text_courses.value = parts[3].strip()\n",
        "    text_link.value = parts[4].strip()\n",
        "    text_fav.value = parts[5].strip() if len(parts) > 5 else \"טרם עודכן\"\n",
        "    out.clear_output()\n",
        "\n",
        "def on_button_click(b):\n",
        "    out.clear_output()\n",
        "    # מוצא את 5 השדות המקוריים\n",
        "    idx = student_names_list.index(dropdown.value)\n",
        "    original_parts = student_Info_list[idx].strip().split(DELIMITER)[0:5]\n",
        "\n",
        "    # מוסיף את השדה החדש\n",
        "    new_program = text_new_fav.value.strip()\n",
        "    if not new_program:\n",
        "        with out: print(\"נא להזין תוכנית.\")\n",
        "        return\n",
        "\n",
        "    original_parts.append(new_program)\n",
        "    new_line = DELIMITER.join(original_parts) + '\\n'\n",
        "\n",
        "    # כותב לקובץ\n",
        "    try:\n",
        "        with open(FILE_PATH, 'a') as f:\n",
        "            f.write(new_line)\n",
        "\n",
        "        # מעדכן את הרשימות בזיכרון\n",
        "        student_Info_list.append(new_line)\n",
        "\n",
        "        # מרענן את התצוגה\n",
        "        display_details({'new': dropdown.value})\n",
        "        text_new_fav.value = \"\"\n",
        "        with out: print(\"נשמר בהצלחה!\")\n",
        "    except Exception as e:\n",
        "        with out: print(f\"שגיאה בכתיבה: {e}\")\n",
        "\n",
        "# --- 3. חיבור והצגה ---\n",
        "dropdown.observe(display_details, names='value')\n",
        "button.on_click(on_button_click)\n",
        "\n",
        "# הצגה פשוטה, אחד מתחת לשני\n",
        "display(dropdown, text_email, text_courses, text_link, text_fav, text_new_fav, button, out)\n",
        "\n",
        "# הפעלה ראשונית\n",
        "display_details({'new': student_names_list[0]})\n"
      ],
      "metadata": {
        "colab": {
          "base_uri": "https://localhost:8080/",
          "height": 303,
          "referenced_widgets": [
            "3d1df35b4bab4d36bc62e8f8e7bbd33a",
            "53ed0c3a5d4d44eda4874d73a5a43914",
            "7de4cd73e32f49bc99e719e9636c215b",
            "47c163d029a748f194f571074392acd9",
            "ee53cd751c5543578225e78a276192f6",
            "62e53961a1104a27afc3dd0f6492b752",
            "ee737f11494d4383a9a8ecdf46133e84",
            "a452fc12979d4222a75bb9afa0fbd4e2",
            "680d44ae4f3e4075bcbcd8901be57a9b",
            "bb3cd96126d74bdd90a258eef83b9c7b",
            "152d9699dd2e4cb6afa73723c330e6b8",
            "8416d5b74c7e421db083619f6c8cc5ea",
            "e65fac1d974949d0ac9b4fd5ef3009e9",
            "5c90700ae55b44ff9ea092c5ed4e8834",
            "3d8049e9001e4293a5b2ba8104e0ce6a",
            "022675251cb64226ba196654d3b4d870",
            "713e2e0d71f7409780312e4262f9774b",
            "10881e84efb34a14adaf972f3bd86c0b",
            "db0c9f21f73c4217a80c2314f63584f8",
            "ba0faa5b59cc4925b2e21428f0563848",
            "5afe6da894ea443da14b04b4738ca5d6",
            "1c8e84e7807740128ff02bff1f496140",
            "fe5452ab48ca411e8f307021b780016c"
          ]
        },
        "id": "5-pCO2upL1GC",
        "outputId": "ddb13a10-270c-4147-a3f1-a68f6d167966"
      },
      "execution_count": 57,
      "outputs": [
        {
          "output_type": "stream",
          "name": "stdout",
          "text": [
            "['Yair  Zeneve', 'Shay  Shay', 'Evyatar  Salamon']\n",
            "['Yair, Zeneve, yair.zenve@e.braude.ac.il, Physics; Math, https://www.youtube.com/\\n', 'Shay, Shay, shay.shay@e.braude.ac.il, Statistics; Java, https://www.google.com/\\n', 'Evyatar, Salamon, Evyatar.Salamon@e.braude.ac.il, Algorithems; Python, https://www.instagram.com/\\n']\n"
          ]
        },
        {
          "output_type": "display_data",
          "data": {
            "text/plain": [
              "Dropdown(description='בחר:', options=('Yair  Zeneve', 'Shay  Shay', 'Evyatar  Salamon'), value='Yair  Zeneve')"
            ],
            "application/vnd.jupyter.widget-view+json": {
              "version_major": 2,
              "version_minor": 0,
              "model_id": "3d1df35b4bab4d36bc62e8f8e7bbd33a"
            }
          },
          "metadata": {}
        },
        {
          "output_type": "display_data",
          "data": {
            "text/plain": [
              "Text(value='', description='מייל:', disabled=True)"
            ],
            "application/vnd.jupyter.widget-view+json": {
              "version_major": 2,
              "version_minor": 0,
              "model_id": "47c163d029a748f194f571074392acd9"
            }
          },
          "metadata": {}
        },
        {
          "output_type": "display_data",
          "data": {
            "text/plain": [
              "Text(value='', description='קורסים:', disabled=True)"
            ],
            "application/vnd.jupyter.widget-view+json": {
              "version_major": 2,
              "version_minor": 0,
              "model_id": "ee737f11494d4383a9a8ecdf46133e84"
            }
          },
          "metadata": {}
        },
        {
          "output_type": "display_data",
          "data": {
            "text/plain": [
              "Text(value='', description='קישור:', disabled=True)"
            ],
            "application/vnd.jupyter.widget-view+json": {
              "version_major": 2,
              "version_minor": 0,
              "model_id": "bb3cd96126d74bdd90a258eef83b9c7b"
            }
          },
          "metadata": {}
        },
        {
          "output_type": "display_data",
          "data": {
            "text/plain": [
              "Text(value='', description='תוכנית אהובה:', disabled=True)"
            ],
            "application/vnd.jupyter.widget-view+json": {
              "version_major": 2,
              "version_minor": 0,
              "model_id": "e65fac1d974949d0ac9b4fd5ef3009e9"
            }
          },
          "metadata": {}
        },
        {
          "output_type": "display_data",
          "data": {
            "text/plain": [
              "Text(value='', description='עדכון תוכנית:')"
            ],
            "application/vnd.jupyter.widget-view+json": {
              "version_major": 2,
              "version_minor": 0,
              "model_id": "022675251cb64226ba196654d3b4d870"
            }
          },
          "metadata": {}
        },
        {
          "output_type": "display_data",
          "data": {
            "text/plain": [
              "Button(button_style='success', description='עדכן קובץ', style=ButtonStyle())"
            ],
            "application/vnd.jupyter.widget-view+json": {
              "version_major": 2,
              "version_minor": 0,
              "model_id": "db0c9f21f73c4217a80c2314f63584f8"
            }
          },
          "metadata": {}
        },
        {
          "output_type": "display_data",
          "data": {
            "text/plain": [
              "Output()"
            ],
            "application/vnd.jupyter.widget-view+json": {
              "version_major": 2,
              "version_minor": 0,
              "model_id": "1c8e84e7807740128ff02bff1f496140"
            }
          },
          "metadata": {}
        }
      ]
    },
    {
      "cell_type": "code",
      "source": [
        "full_name = 'Shay  Shay' #@param [\"Yair  Zeneve\", \"Shay  Shay\", \"Evyatar  Salamon\"]\n",
        "print(full_name)"
      ],
      "metadata": {
        "colab": {
          "base_uri": "https://localhost:8080/"
        },
        "id": "TtcRegH5T42K",
        "outputId": "d36763ce-d3fc-4e19-ac84-5756542b4640"
      },
      "execution_count": 52,
      "outputs": [
        {
          "output_type": "stream",
          "name": "stdout",
          "text": [
            "Shay  Shay\n"
          ]
        }
      ]
    },
    {
      "cell_type": "code",
      "source": [
        "firstName = \"fName\" #@param {type:\"string\"} print(firstName)\n",
        "lastName = \"lName\" #@param {type:\"string\"} print(lastName)\n",
        "mail = \"mail\" #@param {type:\"string\"} print(mail)\n",
        "courses = \"courses\" #@param {type:\"string\"} print(courses)\n",
        "link = \"link\" #@param {type:\"string\"} print(link)"
      ],
      "metadata": {
        "id": "Y5GfDJ0xJ0ZC"
      },
      "execution_count": null,
      "outputs": []
    },
    {
      "cell_type": "code",
      "source": [],
      "metadata": {
        "id": "k0hvPWbiWnHe"
      },
      "execution_count": null,
      "outputs": []
    }
  ]
}